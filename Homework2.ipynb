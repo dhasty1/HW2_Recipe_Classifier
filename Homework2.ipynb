{
 "cells": [
  {
   "cell_type": "markdown",
   "metadata": {},
   "source": [
    "# Homework 2 Text Classification"
   ]
  },
  {
   "cell_type": "code",
   "execution_count": 10,
   "metadata": {},
   "outputs": [
    {
     "name": "stdout",
     "output_type": "stream",
     "text": [
      "\u001b[38;5;2m[+] Created unstructured dataset 'eval_annotations' in database\n",
      "SQLite\u001b[0m\n",
      "\u001b[38;5;2m[+] Imported 811 annotated examples and saved them to\n",
      "'eval_annotations' (session 2024-03-19_03-35-11) in database SQLite\u001b[0m\n",
      "Found and keeping existing \"answer\" in 811 examples\n"
     ]
    }
   ],
   "source": [
    "!python -m prodigy db-in eval_annotations textcat-reddit-cooking/data/eval_annotations.jsonl"
   ]
  },
  {
   "cell_type": "code",
   "execution_count": 3,
   "metadata": {},
   "outputs": [
    {
     "name": "stdout",
     "output_type": "stream",
     "text": [
      "^C\n"
     ]
    }
   ],
   "source": [
    "!python -m prodigy review eval_annotations_reviewed eval_annotations"
   ]
  },
  {
   "cell_type": "markdown",
   "metadata": {},
   "source": [
    "#### Training text classifier using Prodigy"
   ]
  },
  {
   "cell_type": "code",
   "execution_count": 4,
   "metadata": {
    "scrolled": true
   },
   "outputs": [
    {
     "name": "stdout",
     "output_type": "stream",
     "text": [
      "\u001b[38;5;4m[i] Using CPU\u001b[0m\n",
      "\u001b[1m\n",
      "========================= Generating Prodigy config =========================\u001b[0m\n",
      "\u001b[38;5;4m[i] Auto-generating config with spaCy\u001b[0m\n",
      "\u001b[38;5;2m[+] Generated training config\u001b[0m\n",
      "\u001b[1m\n",
      "=========================== Initializing pipeline ===========================\u001b[0m\n",
      "\u001b[38;5;2m[+] Initialized pipeline\u001b[0m\n",
      "\u001b[1m\n",
      "============================= Training pipeline =============================\u001b[0m\n",
      "\u001b[38;5;4m[i] Pipeline: ['textcat']\u001b[0m\n",
      "\u001b[38;5;4m[i] Initial learn rate: 0.001\u001b[0m\n",
      "E    #       LOSS TEXTCAT  CATS_SCORE  SCORE \n",
      "---  ------  ------------  ----------  ------\n",
      "  0       0          0.25       24.27    0.24\n",
      "  2     200         37.54       71.78    0.72\n",
      "  5     400         10.46       70.58    0.71\n",
      "  8     600          3.91       67.86    0.68\n",
      " 12     800          2.01       67.71    0.68\n",
      " 16    1000          1.08       68.60    0.69\n",
      " 22    1200          0.76       68.16    0.68\n",
      " 28    1400          0.51       68.60    0.69\n",
      " 36    1600          0.37       68.60    0.69\n",
      " 46    1800          0.30       67.86    0.68\n",
      "\u001b[38;5;2m[+] Saved pipeline to output directory\u001b[0m\n",
      "textcat-reddit-cooking\\models\\prodigy-textcat-gold\\model-last\n",
      "\u001b[1m\n",
      "=========================== Textcat F (per label) ===========================\u001b[0m\n",
      "\n",
      "                   P       R       F\n",
      "RELEVANT       56.67   62.96   59.65\n",
      "NOT_RELEVANT   85.71   82.19   83.92\n",
      "\n",
      "\u001b[1m\n",
      "======================== Textcat ROC AUC (per label) ========================\u001b[0m\n",
      "\n",
      "               ROC AUC\n",
      "RELEVANT          0.75\n",
      "NOT_RELEVANT      0.75\n",
      "\n"
     ]
    },
    {
     "name": "stderr",
     "output_type": "stream",
     "text": [
      "[2024-03-19 14:18:24,690] [INFO] Set up nlp object from config\n",
      "Components: textcat\n",
      "Merging training and evaluation data for 1 components\n",
      "  - [textcat] Training: 200 | Evaluation: 202 (from datasets)\n",
      "Training: 200 | Evaluation: 200\n",
      "Labels: textcat (2)\n",
      "[2024-03-19 14:18:24,739] [INFO] Pipeline: ['textcat']\n",
      "[2024-03-19 14:18:24,741] [INFO] Created vocabulary\n",
      "[2024-03-19 14:18:24,741] [INFO] Finished initializing nlp object\n",
      "[2024-03-19 14:18:24,978] [INFO] Initialized pipeline components: ['textcat']\n",
      "Components: textcat\n",
      "Merging training and evaluation data for 1 components\n",
      "  - [textcat] Training: 200 | Evaluation: 202 (from datasets)\n",
      "Training: 200 | Evaluation: 200\n",
      "Labels: textcat (2)\n"
     ]
    }
   ],
   "source": [
    "!python -m prodigy train textcat-reddit-cooking/models/prodigy-textcat-gold --textcat textcat-training-labeled,eval:eval_annotations_reviewed --label-stats"
   ]
  },
  {
   "cell_type": "markdown",
   "metadata": {},
   "source": [
    "#### Training second model using spaCy to compare performance"
   ]
  },
  {
   "cell_type": "code",
   "execution_count": 5,
   "metadata": {},
   "outputs": [
    {
     "name": "stdout",
     "output_type": "stream",
     "text": [
      "\u001b[38;5;2m[+] Created output directory\u001b[0m"
     ]
    },
    {
     "name": "stderr",
     "output_type": "stream",
     "text": [
      "Components: textcat\n",
      "Merging training and evaluation data for 1 components\n",
      "  - [textcat] Training: 200 | Evaluation: 202 (from datasets)\n",
      "Training: 200 | Evaluation: 200\n",
      "Labels: textcat (2)\n"
     ]
    },
    {
     "name": "stdout",
     "output_type": "stream",
     "text": [
      "\n",
      "\u001b[38;5;4m[i] Using base model 'en_core_web_sm'\u001b[0m\n",
      "\u001b[1m\n",
      "============================== Generating data ==============================\u001b[0m\n",
      "\u001b[38;5;2m[+] Saved 200 training examples\u001b[0m\n",
      "textcat-reddit-cooking\\models\\corpus\\train.spacy\n",
      "\u001b[38;5;2m[+] Saved 200 evaluation examples\u001b[0m\n",
      "textcat-reddit-cooking\\models\\corpus\\dev.spacy\n",
      "\u001b[1m\n",
      "============================= Generating config =============================\u001b[0m\n",
      "\u001b[38;5;4m[i] Auto-generating config with spaCy\u001b[0m\n",
      "\u001b[38;5;4m[i] Using config from base model\u001b[0m\n",
      "\u001b[38;5;2m[+] Generated training config\u001b[0m\n",
      "\u001b[1m\n",
      "======================== Generating cached label data ========================\u001b[0m\n",
      "\u001b[38;5;2m[+] Saving label data for component 'tagger'\u001b[0m\n",
      "textcat-reddit-cooking\\models\\corpus\\labels\\tagger.json\n",
      "\u001b[38;5;2m[+] Saving label data for component 'parser'\u001b[0m\n",
      "textcat-reddit-cooking\\models\\corpus\\labels\\parser.json\n",
      "\u001b[38;5;2m[+] Saving label data for component 'ner'\u001b[0m\n",
      "textcat-reddit-cooking\\models\\corpus\\labels\\ner.json\n",
      "\u001b[38;5;2m[+] Saving label data for component 'textcat'\u001b[0m\n",
      "textcat-reddit-cooking\\models\\corpus\\labels\\textcat.json\n",
      "\u001b[1m\n",
      "============================= Finalizing export =============================\u001b[0m\n",
      "\u001b[38;5;2m[+] Saved training config\u001b[0m\n",
      "textcat-reddit-cooking\\models\\corpus\\config.cfg\n",
      "\n",
      "To use this data for training with spaCy, you can run:\n",
      "python -m spacy train textcat-reddit-cooking\\models\\corpus\\config.cfg --paths.train textcat-reddit-cooking\\models\\corpus\\train.spacy --paths.dev textcat-reddit-cooking\\models\\corpus\\dev.spacy\n"
     ]
    }
   ],
   "source": [
    "!python -m prodigy data-to-spacy --textcat textcat-training-labeled,eval:eval_annotations_reviewed ./textcat-reddit-cooking/models/corpus --base-model en_core_web_sm"
   ]
  },
  {
   "cell_type": "code",
   "execution_count": 6,
   "metadata": {},
   "outputs": [
    {
     "name": "stdout",
     "output_type": "stream",
     "text": [
      "\u001b[38;5;2m[+] Created output directory:\n",
      "textcat-reddit-cooking\\models\\spacy-model\u001b[0m\n",
      "\u001b[38;5;4m[i] Saving to output directory:\n",
      "textcat-reddit-cooking\\models\\spacy-model\u001b[0m\n",
      "\u001b[38;5;4m[i] Using CPU\u001b[0m\n",
      "\u001b[1m\n",
      "=========================== Initializing pipeline ===========================\u001b[0m\n",
      "\u001b[38;5;2m[+] Initialized pipeline\u001b[0m\n",
      "\u001b[1m\n",
      "============================= Training pipeline =============================\u001b[0m\n",
      "\u001b[38;5;4m[i] Pipeline: ['tok2vec', 'tagger', 'parser', 'attribute_ruler',\n",
      "'lemmatizer', 'ner', 'textcat']\u001b[0m\n",
      "\u001b[38;5;4m[i] Frozen components: ['tagger', 'parser', 'attribute_ruler',\n",
      "'lemmatizer', 'ner']\u001b[0m\n",
      "\u001b[38;5;4m[i] Initial learn rate: 0.001\u001b[0m\n",
      "E    #       LOSS TOK2VEC  LOSS TEXTCAT  CATS_SCORE  SPEED   SCORE \n",
      "---  ------  ------------  ------------  ----------  ------  ------\n",
      "  0       0          0.00          0.25       29.90  7216.40    0.30\n",
      " 16    1000          0.00         55.01       67.03  8088.28    0.67\n",
      " 58    2000          0.00          2.14       67.92  8420.36    0.68\n",
      "152    3000          0.00          0.43       67.92  8390.37    0.68\n",
      "252    4000          0.00          0.13       68.58  8191.09    0.69\n",
      "352    5000          0.00          0.06       68.58  8352.41    0.69\n",
      "452    6000          0.00          0.03       68.58  8069.65    0.69\n",
      "553    7000          0.00          0.02       69.23  8031.00    0.69\n",
      "653    8000          0.00          0.01       69.43  8005.85    0.69\n",
      "753    9000          0.00          0.01       68.78  8086.11    0.69\n",
      "853   10000          0.00          0.00       68.78  8028.13    0.69\n",
      "953   11000          0.00          0.00       68.78  7478.55    0.69\n",
      "1053   12000          0.00          0.00       69.23  7102.33    0.69\n",
      "1154   13000          0.00          0.00       69.23  8202.03    0.69\n",
      "\u001b[38;5;2m[+] Saved pipeline to output directory\u001b[0m\n",
      "textcat-reddit-cooking\\models\\spacy-model\\model-last\n"
     ]
    }
   ],
   "source": [
    "!python -m spacy train corpus\\config.cfg --paths.train corpus\\train.spacy --paths.dev corpus\\dev.spacy --output ./textcat-reddit-cooking/models/spacy-model"
   ]
  },
  {
   "cell_type": "code",
   "execution_count": 8,
   "metadata": {},
   "outputs": [
    {
     "name": "stdout",
     "output_type": "stream",
     "text": [
      "Loading model at spacy-model\\model-best\n",
      "Running model on training data...\n",
      "Running model on development data...\n",
      "\n",
      "Generating Charts ----------------------------------------   0% -:--:--\n",
      "Generating Charts ----------------------------------------   0% -:--:--\n",
      "Generating Charts ----------------------------------------   0% -:--:--\n",
      "Generating Charts ----------------------------------------   0% -:--:--\n",
      "Generating Charts ----------------------------------------   0% -:--:--\n",
      "Generating Charts ----------------------------------------   0% -:--:--\n",
      "Generating Charts ----------------------------------------   0% -:--:--\n",
      "Generating Charts ----------------------------------------   0% -:--:--\n",
      "Generating Charts -------------------- -------------------  50% -:--:--\n",
      "Generating Charts -------------------- -------------------  50% -:--:--\n",
      "Generating Charts -------------------- -------------------  50% -:--:--\n",
      "Generating Charts -------------------- -------------------  50% -:--:--\n",
      "Generating Charts -------------------- -------------------  50% -:--:--\n",
      "Generating Charts -------------------- -------------------  50% -:--:--\n",
      "Generating Charts -------------------- -------------------  50% -:--:--\n",
      "Generating Charts -------------------- -------------------  50% -:--:--\n",
      "Generating Charts ---------------------------------------- 100% 0:00:01\n",
      "Generating Charts ---------------------------------------- 100% 0:00:01\n",
      "Done! You can view the report via;\n",
      "\n",
      "python -m http.server --directory reports PORT \n",
      "\n"
     ]
    }
   ],
   "source": [
    "!python -m spacy report textcat spacy-model/model-best/ corpus/train.spacy corpus/dev.spacy"
   ]
  }
 ],
 "metadata": {
  "kernelspec": {
   "display_name": ".tmir",
   "language": "python",
   "name": ".tmir"
  },
  "language_info": {
   "codemirror_mode": {
    "name": "ipython",
    "version": 3
   },
   "file_extension": ".py",
   "mimetype": "text/x-python",
   "name": "python",
   "nbconvert_exporter": "python",
   "pygments_lexer": "ipython3",
   "version": "3.10.11"
  }
 },
 "nbformat": 4,
 "nbformat_minor": 4
}
